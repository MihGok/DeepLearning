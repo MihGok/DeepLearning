{
  "nbformat": 4,
  "nbformat_minor": 0,
  "metadata": {
    "colab": {
      "provenance": [],
      "gpuType": "T4"
    },
    "language_info": {
      "name": "python"
    },
    "kernelspec": {
      "name": "python3",
      "display_name": "Python 3"
    },
    "accelerator": "GPU"
  },
  "cells": [
    {
      "cell_type": "markdown",
      "source": [
        "# Нейронные сети классификации изображений"
      ],
      "metadata": {
        "id": "e1nrvL7pCnw1"
      }
    },
    {
      "cell_type": "markdown",
      "metadata": {
        "origin_pos": 0,
        "id": "myfYCw5U_tlK"
      },
      "source": [
        "# 3 Разветвленные сети, сеть NiN\n",
        "Сети LeNet, AlexNet, и VGG работают по одному шаблону:\n",
        "- извлекаем признаки из пространственной структуры данных, т.е. связываем ближайшие пиксели.\n",
        "- полносвязная сеть типа многослойного персептрона классифицирует на основе таких признаков. При это в персептроне теряется пространственная информация, связываются *все* признаки.\n",
        "\n",
        "Логичен вопрос, а почему бы не использовать полносвязные слои раньше, не только в конце. Если это делать обычным способом, то потеряется пространственная информация, которая для изображений может быть важна.\n",
        "\n",
        "Нужно и не потерять пространственную информацию, и обработать признаки более сложным образом, чем просто свертка. Ответ - связывать только каналы.\n",
        "\n",
        "Для этого подойдет свертка с ядром 1 на 1. Действительно, что делает такая **многоканальная** свертка? Берет входной признак с первого канала, умножает на единственный вес в первом ядре, берет признак второго канала, умножает его на вес второго ядра, и т.д., затем складывает результаты от всех каналов и добавляет смещение.\n",
        "\n",
        "Абсолютно то же самое, что делает персептронный нейрон. Но для каналов, а не всего изображения целиком.\n",
        "\n",
        "Получилась разветвленная архитектура, где каждый пиксель (признак) обрабатывается независимо от остальных. Как бы одна сеть - персептрон - применяется много раз для признаков другой сети, сеть в сети.\n"
      ]
    },
    {
      "cell_type": "markdown",
      "metadata": {
        "id": "5PSSLCgfJY4-"
      },
      "source": [
        "\n",
        "## NiN блоки\n",
        "Такую сеть так и назвали Network in Network (NiN), состоит из блоков.\n",
        "\n",
        "Первый слой в блоке - сверточный, с заданным размером ядра, связывает локально входные признаки, каждый фильтр дает свою карту признаков.\n",
        "\n",
        "Следующие слои (в наших примерах два) связывают каналы признаков независимо для каждого признака, не меняют пространственную форму. Разумеется фильтров в таких слоях также несколько. Технически реализуются как свертка с ядром 1 на 1.    \n",
        "\n",
        "На рис. показана архитектура блоков и самой сети NiN.\n",
        "\n",
        "![img](https://d2l.ai/_images/nin.svg)\n",
        "\n",
        "Между блоками используют слои субдискретизации. Отметим, что последний слой субдискретизации это слой 2D Global average pooling, который находит среднее значение для каждого канала входа.\n",
        "\n",
        "![img](https://qph.cf2.quoracdn.net/main-qimg-a8c5cb77e38e589b3d7744c60ab5daad-pjlq)\n",
        "\n",
        "Таким образом в сети **нет полносвязных слоев** в обычном понимании, на которые, как мы видели, приходятся основные вычислительные затраты. Число фильтров последнего блока определяется числом классов.\n",
        "\n"
      ]
    },
    {
      "cell_type": "code",
      "metadata": {
        "colab": {
          "base_uri": "https://localhost:8080/"
        },
        "id": "CbyPZoUqI7bN",
        "outputId": "a56e1588-d820-4c82-e99a-c3852144de8f"
      },
      "source": [
        "# установим вспомогательные функции из курса  d2l\n",
        "!pip -q install d2l==0.17.0"
      ],
      "execution_count": 1,
      "outputs": [
        {
          "output_type": "stream",
          "name": "stdout",
          "text": [
            "\u001b[31mERROR: pip's dependency resolver does not currently take into account all the packages that are installed. This behaviour is the source of the following dependency conflicts.\n",
            "google-colab 1.0.0 requires ipykernel==5.5.6, but you have ipykernel 6.29.5 which is incompatible.\u001b[0m\u001b[31m\n",
            "\u001b[0m"
          ]
        }
      ]
    },
    {
      "cell_type": "markdown",
      "metadata": {
        "id": "23G4WYunJ34d"
      },
      "source": [
        "Зададим блоки NiN. Принимает аргументы:\n",
        "- num_channels - число каналов (фильтров)\n",
        "- kernel_size - размер сверточного слоя,\n",
        "- strides - сдвиг для сверточного слоя,\n",
        "- padding - набивка для него же.\n",
        "\n",
        "Несмотря на разветвленную архитектуру все еще можем реализовать такую сеть в контейнере Sequential."
      ]
    },
    {
      "cell_type": "code",
      "metadata": {
        "origin_pos": 3,
        "tab": [
          "tensorflow"
        ],
        "id": "R82EzJgK_tlS"
      },
      "source": [
        "import tensorflow as tf\n",
        "from tensorflow.keras import datasets\n",
        "\n",
        "def nin_block(num_channels, kernel_size, strides, padding):\n",
        "    return tf.keras.models.Sequential([\n",
        "        tf.keras.layers.Conv2D(num_channels, kernel_size, strides=strides,\n",
        "                               padding=padding, activation='relu'),\n",
        "        tf.keras.layers.Conv2D(num_channels, kernel_size=1,\n",
        "                               activation='relu'),\n",
        "        tf.keras.layers.Conv2D(num_channels, kernel_size=1,\n",
        "                               activation='relu'),\n",
        "        tf.keras.layers.Conv2D(num_channels, kernel_size=1,\n",
        "                               activation='relu')])"
      ],
      "execution_count": 2,
      "outputs": []
    },
    {
      "cell_type": "code",
      "source": [
        "(train_images, train_labels), (test_images, test_labels) = datasets.cifar10.load_data()\n",
        "train_images, test_images = train_images / 255.0, test_images / 255.0"
      ],
      "metadata": {
        "id": "Id4_vapMuSqp"
      },
      "execution_count": 3,
      "outputs": []
    },
    {
      "cell_type": "markdown",
      "metadata": {
        "origin_pos": 4,
        "id": "0ghV1At4_tlW"
      },
      "source": [
        "## Сеть NiN\n",
        "\n",
        "Оригинальная сеть NiN использует сверточные слои в блоках с ядрами $11\\times 11$, $5\\times 5$, и $3\\times 3$, такое же число фильтров, что и в AlexNet.\n",
        "\n",
        "После блока NiN используют слой maxipooling со сдвигом 2 и ядром $3\\times 3$.\n",
        "\n",
        "В число каналов последнего блока совпадает с числом классов и используется слой *global average pooling*.\n",
        "\n"
      ]
    },
    {
      "cell_type": "code",
      "metadata": {
        "origin_pos": 7,
        "tab": [
          "tensorflow"
        ],
        "id": "M5McTbsB_tlW"
      },
      "source": [
        "# Сеть NiN\n",
        "def net():\n",
        "    return tf.keras.models.Sequential([\n",
        "        nin_block(384, kernel_size=7, strides=3, padding='same'), # блок 1\n",
        "        tf.keras.layers.MaxPool2D(pool_size=3, strides=2),\n",
        "        nin_block(756, kernel_size=5, strides=1, padding='same'), # блок 2\n",
        "        tf.keras.layers.MaxPool2D(pool_size=3, strides=2),\n",
        "        nin_block(1024, kernel_size=3, strides=1, padding='same'), # блок 3\n",
        "        tf.keras.layers.MaxPool2D(pool_size=2, strides=2),\n",
        "        tf.keras.layers.Dropout(0.5),\n",
        "        # There are 10 label classes\n",
        "        nin_block(20, kernel_size=3, strides=1, padding='same'), # блок 4, число фильтров равно числу классов\n",
        "        tf.keras.layers.GlobalAveragePooling2D()])"
      ],
      "execution_count": 12,
      "outputs": []
    },
    {
      "cell_type": "markdown",
      "metadata": {
        "origin_pos": 8,
        "id": "VLSCC81s_tlX"
      },
      "source": [
        "Проверим размерности выходов всех слоев. Первое измерение - примеры.\n",
        "\n",
        "Посчитайте эти размерности самостоятельно, затем объясните вывод.\n",
        "\n"
      ]
    },
    {
      "cell_type": "code",
      "metadata": {
        "origin_pos": 11,
        "tab": [
          "tensorflow"
        ],
        "colab": {
          "base_uri": "https://localhost:8080/"
        },
        "id": "zkdtunCk_tlY",
        "outputId": "128d1b68-0525-4a60-ffdb-75be439f5d29"
      },
      "source": [
        "X = tf.random.uniform((1, 32*32, 32*32, 3))\n",
        "for layer in net().layers:\n",
        "    X = layer(X)\n",
        "    print(layer.__class__.__name__,'output shape:\\t', X.shape)"
      ],
      "execution_count": 13,
      "outputs": [
        {
          "output_type": "stream",
          "name": "stdout",
          "text": [
            "Sequential output shape:\t (1, 342, 342, 384)\n",
            "MaxPooling2D output shape:\t (1, 170, 170, 384)\n",
            "Sequential output shape:\t (1, 170, 170, 756)\n",
            "MaxPooling2D output shape:\t (1, 84, 84, 756)\n",
            "Sequential output shape:\t (1, 84, 84, 1024)\n",
            "MaxPooling2D output shape:\t (1, 42, 42, 1024)\n",
            "Dropout output shape:\t (1, 42, 42, 1024)\n",
            "Sequential output shape:\t (1, 42, 42, 20)\n",
            "GlobalAveragePooling2D output shape:\t (1, 20)\n"
          ]
        }
      ]
    },
    {
      "cell_type": "code",
      "source": [
        "len(train_images[0][0])"
      ],
      "metadata": {
        "colab": {
          "base_uri": "https://localhost:8080/"
        },
        "id": "f8xa6KCRycRs",
        "outputId": "40ec7f97-e8e8-429c-f068-fb9e5ec44799"
      },
      "execution_count": 6,
      "outputs": [
        {
          "output_type": "execute_result",
          "data": {
            "text/plain": [
              "32"
            ]
          },
          "metadata": {},
          "execution_count": 6
        }
      ]
    },
    {
      "cell_type": "code",
      "source": [
        "input_shape=(128,32*32, 32*32, 3)\n",
        "nn=net()\n",
        "nn.build(input_shape)\n",
        "nn.summary()"
      ],
      "metadata": {
        "colab": {
          "base_uri": "https://localhost:8080/",
          "height": 433
        },
        "id": "L17QJUlQxeSs",
        "outputId": "8ca4368e-de53-4fd3-bb05-74677158aba5"
      },
      "execution_count": 7,
      "outputs": [
        {
          "output_type": "display_data",
          "data": {
            "text/plain": [
              "\u001b[1mModel: \"sequential_9\"\u001b[0m\n"
            ],
            "text/html": [
              "<pre style=\"white-space:pre;overflow-x:auto;line-height:normal;font-family:Menlo,'DejaVu Sans Mono',consolas,'Courier New',monospace\"><span style=\"font-weight: bold\">Model: \"sequential_9\"</span>\n",
              "</pre>\n"
            ]
          },
          "metadata": {}
        },
        {
          "output_type": "display_data",
          "data": {
            "text/plain": [
              "┏━━━━━━━━━━━━━━━━━━━━━━━━━━━━━━━━━━━━━━┳━━━━━━━━━━━━━━━━━━━━━━━━━━━━━┳━━━━━━━━━━━━━━━━━┓\n",
              "┃\u001b[1m \u001b[0m\u001b[1mLayer (type)                        \u001b[0m\u001b[1m \u001b[0m┃\u001b[1m \u001b[0m\u001b[1mOutput Shape               \u001b[0m\u001b[1m \u001b[0m┃\u001b[1m \u001b[0m\u001b[1m        Param #\u001b[0m\u001b[1m \u001b[0m┃\n",
              "┡━━━━━━━━━━━━━━━━━━━━━━━━━━━━━━━━━━━━━━╇━━━━━━━━━━━━━━━━━━━━━━━━━━━━━╇━━━━━━━━━━━━━━━━━┩\n",
              "│ sequential_5 (\u001b[38;5;33mSequential\u001b[0m)            │ (\u001b[38;5;34m128\u001b[0m, \u001b[38;5;34m342\u001b[0m, \u001b[38;5;34m342\u001b[0m, \u001b[38;5;34m96\u001b[0m)         │          \u001b[38;5;34m42,144\u001b[0m │\n",
              "├──────────────────────────────────────┼─────────────────────────────┼─────────────────┤\n",
              "│ max_pooling2d_3 (\u001b[38;5;33mMaxPooling2D\u001b[0m)       │ (\u001b[38;5;34m128\u001b[0m, \u001b[38;5;34m170\u001b[0m, \u001b[38;5;34m170\u001b[0m, \u001b[38;5;34m96\u001b[0m)         │               \u001b[38;5;34m0\u001b[0m │\n",
              "├──────────────────────────────────────┼─────────────────────────────┼─────────────────┤\n",
              "│ sequential_6 (\u001b[38;5;33mSequential\u001b[0m)            │ (\u001b[38;5;34m128\u001b[0m, \u001b[38;5;34m170\u001b[0m, \u001b[38;5;34m170\u001b[0m, \u001b[38;5;34m256\u001b[0m)        │         \u001b[38;5;34m812,032\u001b[0m │\n",
              "├──────────────────────────────────────┼─────────────────────────────┼─────────────────┤\n",
              "│ max_pooling2d_4 (\u001b[38;5;33mMaxPooling2D\u001b[0m)       │ (\u001b[38;5;34m128\u001b[0m, \u001b[38;5;34m84\u001b[0m, \u001b[38;5;34m84\u001b[0m, \u001b[38;5;34m256\u001b[0m)          │               \u001b[38;5;34m0\u001b[0m │\n",
              "├──────────────────────────────────────┼─────────────────────────────┼─────────────────┤\n",
              "│ sequential_7 (\u001b[38;5;33mSequential\u001b[0m)            │ (\u001b[38;5;34m128\u001b[0m, \u001b[38;5;34m84\u001b[0m, \u001b[38;5;34m84\u001b[0m, \u001b[38;5;34m384\u001b[0m)          │       \u001b[38;5;34m1,328,640\u001b[0m │\n",
              "├──────────────────────────────────────┼─────────────────────────────┼─────────────────┤\n",
              "│ max_pooling2d_5 (\u001b[38;5;33mMaxPooling2D\u001b[0m)       │ (\u001b[38;5;34m128\u001b[0m, \u001b[38;5;34m42\u001b[0m, \u001b[38;5;34m42\u001b[0m, \u001b[38;5;34m384\u001b[0m)          │               \u001b[38;5;34m0\u001b[0m │\n",
              "├──────────────────────────────────────┼─────────────────────────────┼─────────────────┤\n",
              "│ dropout_1 (\u001b[38;5;33mDropout\u001b[0m)                  │ (\u001b[38;5;34m128\u001b[0m, \u001b[38;5;34m42\u001b[0m, \u001b[38;5;34m42\u001b[0m, \u001b[38;5;34m384\u001b[0m)          │               \u001b[38;5;34m0\u001b[0m │\n",
              "├──────────────────────────────────────┼─────────────────────────────┼─────────────────┤\n",
              "│ sequential_8 (\u001b[38;5;33mSequential\u001b[0m)            │ (\u001b[38;5;34m128\u001b[0m, \u001b[38;5;34m42\u001b[0m, \u001b[38;5;34m42\u001b[0m, \u001b[38;5;34m20\u001b[0m)           │          \u001b[38;5;34m70,400\u001b[0m │\n",
              "├──────────────────────────────────────┼─────────────────────────────┼─────────────────┤\n",
              "│ global_average_pooling2d_1           │ (\u001b[38;5;34m128\u001b[0m, \u001b[38;5;34m20\u001b[0m)                   │               \u001b[38;5;34m0\u001b[0m │\n",
              "│ (\u001b[38;5;33mGlobalAveragePooling2D\u001b[0m)             │                             │                 │\n",
              "└──────────────────────────────────────┴─────────────────────────────┴─────────────────┘\n"
            ],
            "text/html": [
              "<pre style=\"white-space:pre;overflow-x:auto;line-height:normal;font-family:Menlo,'DejaVu Sans Mono',consolas,'Courier New',monospace\">┏━━━━━━━━━━━━━━━━━━━━━━━━━━━━━━━━━━━━━━┳━━━━━━━━━━━━━━━━━━━━━━━━━━━━━┳━━━━━━━━━━━━━━━━━┓\n",
              "┃<span style=\"font-weight: bold\"> Layer (type)                         </span>┃<span style=\"font-weight: bold\"> Output Shape                </span>┃<span style=\"font-weight: bold\">         Param # </span>┃\n",
              "┡━━━━━━━━━━━━━━━━━━━━━━━━━━━━━━━━━━━━━━╇━━━━━━━━━━━━━━━━━━━━━━━━━━━━━╇━━━━━━━━━━━━━━━━━┩\n",
              "│ sequential_5 (<span style=\"color: #0087ff; text-decoration-color: #0087ff\">Sequential</span>)            │ (<span style=\"color: #00af00; text-decoration-color: #00af00\">128</span>, <span style=\"color: #00af00; text-decoration-color: #00af00\">342</span>, <span style=\"color: #00af00; text-decoration-color: #00af00\">342</span>, <span style=\"color: #00af00; text-decoration-color: #00af00\">96</span>)         │          <span style=\"color: #00af00; text-decoration-color: #00af00\">42,144</span> │\n",
              "├──────────────────────────────────────┼─────────────────────────────┼─────────────────┤\n",
              "│ max_pooling2d_3 (<span style=\"color: #0087ff; text-decoration-color: #0087ff\">MaxPooling2D</span>)       │ (<span style=\"color: #00af00; text-decoration-color: #00af00\">128</span>, <span style=\"color: #00af00; text-decoration-color: #00af00\">170</span>, <span style=\"color: #00af00; text-decoration-color: #00af00\">170</span>, <span style=\"color: #00af00; text-decoration-color: #00af00\">96</span>)         │               <span style=\"color: #00af00; text-decoration-color: #00af00\">0</span> │\n",
              "├──────────────────────────────────────┼─────────────────────────────┼─────────────────┤\n",
              "│ sequential_6 (<span style=\"color: #0087ff; text-decoration-color: #0087ff\">Sequential</span>)            │ (<span style=\"color: #00af00; text-decoration-color: #00af00\">128</span>, <span style=\"color: #00af00; text-decoration-color: #00af00\">170</span>, <span style=\"color: #00af00; text-decoration-color: #00af00\">170</span>, <span style=\"color: #00af00; text-decoration-color: #00af00\">256</span>)        │         <span style=\"color: #00af00; text-decoration-color: #00af00\">812,032</span> │\n",
              "├──────────────────────────────────────┼─────────────────────────────┼─────────────────┤\n",
              "│ max_pooling2d_4 (<span style=\"color: #0087ff; text-decoration-color: #0087ff\">MaxPooling2D</span>)       │ (<span style=\"color: #00af00; text-decoration-color: #00af00\">128</span>, <span style=\"color: #00af00; text-decoration-color: #00af00\">84</span>, <span style=\"color: #00af00; text-decoration-color: #00af00\">84</span>, <span style=\"color: #00af00; text-decoration-color: #00af00\">256</span>)          │               <span style=\"color: #00af00; text-decoration-color: #00af00\">0</span> │\n",
              "├──────────────────────────────────────┼─────────────────────────────┼─────────────────┤\n",
              "│ sequential_7 (<span style=\"color: #0087ff; text-decoration-color: #0087ff\">Sequential</span>)            │ (<span style=\"color: #00af00; text-decoration-color: #00af00\">128</span>, <span style=\"color: #00af00; text-decoration-color: #00af00\">84</span>, <span style=\"color: #00af00; text-decoration-color: #00af00\">84</span>, <span style=\"color: #00af00; text-decoration-color: #00af00\">384</span>)          │       <span style=\"color: #00af00; text-decoration-color: #00af00\">1,328,640</span> │\n",
              "├──────────────────────────────────────┼─────────────────────────────┼─────────────────┤\n",
              "│ max_pooling2d_5 (<span style=\"color: #0087ff; text-decoration-color: #0087ff\">MaxPooling2D</span>)       │ (<span style=\"color: #00af00; text-decoration-color: #00af00\">128</span>, <span style=\"color: #00af00; text-decoration-color: #00af00\">42</span>, <span style=\"color: #00af00; text-decoration-color: #00af00\">42</span>, <span style=\"color: #00af00; text-decoration-color: #00af00\">384</span>)          │               <span style=\"color: #00af00; text-decoration-color: #00af00\">0</span> │\n",
              "├──────────────────────────────────────┼─────────────────────────────┼─────────────────┤\n",
              "│ dropout_1 (<span style=\"color: #0087ff; text-decoration-color: #0087ff\">Dropout</span>)                  │ (<span style=\"color: #00af00; text-decoration-color: #00af00\">128</span>, <span style=\"color: #00af00; text-decoration-color: #00af00\">42</span>, <span style=\"color: #00af00; text-decoration-color: #00af00\">42</span>, <span style=\"color: #00af00; text-decoration-color: #00af00\">384</span>)          │               <span style=\"color: #00af00; text-decoration-color: #00af00\">0</span> │\n",
              "├──────────────────────────────────────┼─────────────────────────────┼─────────────────┤\n",
              "│ sequential_8 (<span style=\"color: #0087ff; text-decoration-color: #0087ff\">Sequential</span>)            │ (<span style=\"color: #00af00; text-decoration-color: #00af00\">128</span>, <span style=\"color: #00af00; text-decoration-color: #00af00\">42</span>, <span style=\"color: #00af00; text-decoration-color: #00af00\">42</span>, <span style=\"color: #00af00; text-decoration-color: #00af00\">20</span>)           │          <span style=\"color: #00af00; text-decoration-color: #00af00\">70,400</span> │\n",
              "├──────────────────────────────────────┼─────────────────────────────┼─────────────────┤\n",
              "│ global_average_pooling2d_1           │ (<span style=\"color: #00af00; text-decoration-color: #00af00\">128</span>, <span style=\"color: #00af00; text-decoration-color: #00af00\">20</span>)                   │               <span style=\"color: #00af00; text-decoration-color: #00af00\">0</span> │\n",
              "│ (<span style=\"color: #0087ff; text-decoration-color: #0087ff\">GlobalAveragePooling2D</span>)             │                             │                 │\n",
              "└──────────────────────────────────────┴─────────────────────────────┴─────────────────┘\n",
              "</pre>\n"
            ]
          },
          "metadata": {}
        },
        {
          "output_type": "display_data",
          "data": {
            "text/plain": [
              "\u001b[1m Total params: \u001b[0m\u001b[38;5;34m2,253,216\u001b[0m (8.60 MB)\n"
            ],
            "text/html": [
              "<pre style=\"white-space:pre;overflow-x:auto;line-height:normal;font-family:Menlo,'DejaVu Sans Mono',consolas,'Courier New',monospace\"><span style=\"font-weight: bold\"> Total params: </span><span style=\"color: #00af00; text-decoration-color: #00af00\">2,253,216</span> (8.60 MB)\n",
              "</pre>\n"
            ]
          },
          "metadata": {}
        },
        {
          "output_type": "display_data",
          "data": {
            "text/plain": [
              "\u001b[1m Trainable params: \u001b[0m\u001b[38;5;34m2,253,216\u001b[0m (8.60 MB)\n"
            ],
            "text/html": [
              "<pre style=\"white-space:pre;overflow-x:auto;line-height:normal;font-family:Menlo,'DejaVu Sans Mono',consolas,'Courier New',monospace\"><span style=\"font-weight: bold\"> Trainable params: </span><span style=\"color: #00af00; text-decoration-color: #00af00\">2,253,216</span> (8.60 MB)\n",
              "</pre>\n"
            ]
          },
          "metadata": {}
        },
        {
          "output_type": "display_data",
          "data": {
            "text/plain": [
              "\u001b[1m Non-trainable params: \u001b[0m\u001b[38;5;34m0\u001b[0m (0.00 B)\n"
            ],
            "text/html": [
              "<pre style=\"white-space:pre;overflow-x:auto;line-height:normal;font-family:Menlo,'DejaVu Sans Mono',consolas,'Courier New',monospace\"><span style=\"font-weight: bold\"> Non-trainable params: </span><span style=\"color: #00af00; text-decoration-color: #00af00\">0</span> (0.00 B)\n",
              "</pre>\n"
            ]
          },
          "metadata": {}
        }
      ]
    },
    {
      "cell_type": "code",
      "source": [
        "import math\n",
        "\n",
        "def cosine_annealing_lr(epoch, lr, num_epochs):\n",
        "    return initial_lr * (1 + math.cos(math.pi * epoch / num_epochs)) / 1.8"
      ],
      "metadata": {
        "id": "ABBRrsTTyIKn"
      },
      "execution_count": 8,
      "outputs": []
    },
    {
      "cell_type": "code",
      "source": [
        "initial_lr = 5e-4\n",
        "num_epochs = 50\n",
        "optimizer = tf.keras.optimizers.AdamW(learning_rate = initial_lr)\n",
        "nn.compile(optimizer=optimizer,\n",
        "              loss=tf.keras.losses.SparseCategoricalCrossentropy(from_logits = True),\n",
        "              metrics=['accuracy'])\n",
        "lr_callback = tf.keras.callbacks.LearningRateScheduler(lambda epoch: cosine_annealing_lr(epoch, initial_lr, num_epochs))"
      ],
      "metadata": {
        "id": "JFKRXFiiyKR4"
      },
      "execution_count": 9,
      "outputs": []
    },
    {
      "cell_type": "code",
      "source": [
        "%%time\n",
        "history = nn.fit(train_images, train_labels, epochs=num_epochs,\n",
        "                    validation_data=(test_images, test_labels),\n",
        "                    batch_size = 128,  callbacks=[lr_callback])"
      ],
      "metadata": {
        "colab": {
          "base_uri": "https://localhost:8080/"
        },
        "id": "AfOXcciwyPLN",
        "outputId": "3d6a1604-b1c4-43a1-8941-0fbc0e4e1970"
      },
      "execution_count": 11,
      "outputs": [
        {
          "metadata": {
            "tags": null
          },
          "name": "stdout",
          "output_type": "stream",
          "text": [
            "Epoch 1/50\n",
            "\u001b[1m391/391\u001b[0m \u001b[32m━━━━━━━━━━━━━━━━━━━━\u001b[0m\u001b[37m\u001b[0m \u001b[1m23s\u001b[0m 32ms/step - accuracy: 0.1030 - loss: 2.7838 - val_accuracy: 0.1857 - val_loss: 2.4655 - learning_rate: 5.5556e-04\n",
            "Epoch 2/50\n",
            "\u001b[1m391/391\u001b[0m \u001b[32m━━━━━━━━━━━━━━━━━━━━\u001b[0m\u001b[37m\u001b[0m \u001b[1m9s\u001b[0m 15ms/step - accuracy: 0.2092 - loss: 2.4122 - val_accuracy: 0.3192 - val_loss: 2.1089 - learning_rate: 5.5501e-04\n",
            "Epoch 3/50\n",
            "\u001b[1m391/391\u001b[0m \u001b[32m━━━━━━━━━━━━━━━━━━━━\u001b[0m\u001b[37m\u001b[0m \u001b[1m5s\u001b[0m 13ms/step - accuracy: 0.3618 - loss: 2.0006 - val_accuracy: 0.4072 - val_loss: 1.9015 - learning_rate: 5.5337e-04\n",
            "Epoch 4/50\n",
            "\u001b[1m391/391\u001b[0m \u001b[32m━━━━━━━━━━━━━━━━━━━━\u001b[0m\u001b[37m\u001b[0m \u001b[1m11s\u001b[0m 15ms/step - accuracy: 0.4305 - loss: 1.8265 - val_accuracy: 0.4440 - val_loss: 1.8159 - learning_rate: 5.5064e-04\n",
            "Epoch 5/50\n",
            "\u001b[1m391/391\u001b[0m \u001b[32m━━━━━━━━━━━━━━━━━━━━\u001b[0m\u001b[37m\u001b[0m \u001b[1m10s\u001b[0m 14ms/step - accuracy: 0.4663 - loss: 1.7267 - val_accuracy: 0.4914 - val_loss: 1.6758 - learning_rate: 5.4683e-04\n",
            "Epoch 6/50\n",
            "\u001b[1m391/391\u001b[0m \u001b[32m━━━━━━━━━━━━━━━━━━━━\u001b[0m\u001b[37m\u001b[0m \u001b[1m10s\u001b[0m 15ms/step - accuracy: 0.5003 - loss: 1.6263 - val_accuracy: 0.4899 - val_loss: 1.6679 - learning_rate: 5.4196e-04\n",
            "Epoch 7/50\n",
            "\u001b[1m391/391\u001b[0m \u001b[32m━━━━━━━━━━━━━━━━━━━━\u001b[0m\u001b[37m\u001b[0m \u001b[1m5s\u001b[0m 14ms/step - accuracy: 0.5193 - loss: 1.5631 - val_accuracy: 0.4981 - val_loss: 1.6763 - learning_rate: 5.3605e-04\n",
            "Epoch 8/50\n",
            "\u001b[1m391/391\u001b[0m \u001b[32m━━━━━━━━━━━━━━━━━━━━\u001b[0m\u001b[37m\u001b[0m \u001b[1m5s\u001b[0m 13ms/step - accuracy: 0.5310 - loss: 1.5159 - val_accuracy: 0.5246 - val_loss: 1.5706 - learning_rate: 5.2912e-04\n",
            "Epoch 9/50\n",
            "\u001b[1m391/391\u001b[0m \u001b[32m━━━━━━━━━━━━━━━━━━━━\u001b[0m\u001b[37m\u001b[0m \u001b[1m6s\u001b[0m 15ms/step - accuracy: 0.5595 - loss: 1.4413 - val_accuracy: 0.5225 - val_loss: 1.5713 - learning_rate: 5.2120e-04\n",
            "Epoch 10/50\n",
            "\u001b[1m391/391\u001b[0m \u001b[32m━━━━━━━━━━━━━━━━━━━━\u001b[0m\u001b[37m\u001b[0m \u001b[1m10s\u001b[0m 15ms/step - accuracy: 0.5763 - loss: 1.3842 - val_accuracy: 0.5371 - val_loss: 1.5395 - learning_rate: 5.1231e-04\n",
            "Epoch 11/50\n",
            "\u001b[1m391/391\u001b[0m \u001b[32m━━━━━━━━━━━━━━━━━━━━\u001b[0m\u001b[37m\u001b[0m \u001b[1m10s\u001b[0m 14ms/step - accuracy: 0.5946 - loss: 1.3294 - val_accuracy: 0.5349 - val_loss: 1.5638 - learning_rate: 5.0250e-04\n",
            "Epoch 12/50\n",
            "\u001b[1m391/391\u001b[0m \u001b[32m━━━━━━━━━━━━━━━━━━━━\u001b[0m\u001b[37m\u001b[0m \u001b[1m6s\u001b[0m 15ms/step - accuracy: 0.6082 - loss: 1.2781 - val_accuracy: 0.5356 - val_loss: 1.5545 - learning_rate: 4.9181e-04\n",
            "Epoch 13/50\n",
            "\u001b[1m391/391\u001b[0m \u001b[32m━━━━━━━━━━━━━━━━━━━━\u001b[0m\u001b[37m\u001b[0m \u001b[1m10s\u001b[0m 14ms/step - accuracy: 0.6237 - loss: 1.2237 - val_accuracy: 0.5423 - val_loss: 1.5910 - learning_rate: 4.8027e-04\n",
            "Epoch 14/50\n",
            "\u001b[1m391/391\u001b[0m \u001b[32m━━━━━━━━━━━━━━━━━━━━\u001b[0m\u001b[37m\u001b[0m \u001b[1m10s\u001b[0m 15ms/step - accuracy: 0.6402 - loss: 1.1712 - val_accuracy: 0.5461 - val_loss: 1.5504 - learning_rate: 4.6793e-04\n",
            "Epoch 15/50\n",
            "\u001b[1m391/391\u001b[0m \u001b[32m━━━━━━━━━━━━━━━━━━━━\u001b[0m\u001b[37m\u001b[0m \u001b[1m10s\u001b[0m 14ms/step - accuracy: 0.6554 - loss: 1.1124 - val_accuracy: 0.5379 - val_loss: 1.6079 - learning_rate: 4.5484e-04\n",
            "Epoch 16/50\n",
            "\u001b[1m391/391\u001b[0m \u001b[32m━━━━━━━━━━━━━━━━━━━━\u001b[0m\u001b[37m\u001b[0m \u001b[1m6s\u001b[0m 15ms/step - accuracy: 0.6622 - loss: 1.0863 - val_accuracy: 0.5538 - val_loss: 1.6498 - learning_rate: 4.4105e-04\n",
            "Epoch 17/50\n",
            "\u001b[1m391/391\u001b[0m \u001b[32m━━━━━━━━━━━━━━━━━━━━\u001b[0m\u001b[37m\u001b[0m \u001b[1m5s\u001b[0m 14ms/step - accuracy: 0.6774 - loss: 1.0319 - val_accuracy: 0.5572 - val_loss: 1.6442 - learning_rate: 4.2662e-04\n",
            "Epoch 18/50\n",
            "\u001b[1m391/391\u001b[0m \u001b[32m━━━━━━━━━━━━━━━━━━━━\u001b[0m\u001b[37m\u001b[0m \u001b[1m6s\u001b[0m 14ms/step - accuracy: 0.6901 - loss: 0.9831 - val_accuracy: 0.5453 - val_loss: 1.7285 - learning_rate: 4.1160e-04\n",
            "Epoch 19/50\n",
            "\u001b[1m391/391\u001b[0m \u001b[32m━━━━━━━━━━━━━━━━━━━━\u001b[0m\u001b[37m\u001b[0m \u001b[1m10s\u001b[0m 14ms/step - accuracy: 0.7019 - loss: 0.9424 - val_accuracy: 0.5413 - val_loss: 1.7923 - learning_rate: 3.9605e-04\n",
            "Epoch 20/50\n",
            "\u001b[1m391/391\u001b[0m \u001b[32m━━━━━━━━━━━━━━━━━━━━\u001b[0m\u001b[37m\u001b[0m \u001b[1m10s\u001b[0m 14ms/step - accuracy: 0.7091 - loss: 0.9205 - val_accuracy: 0.5411 - val_loss: 1.8718 - learning_rate: 3.8003e-04\n",
            "Epoch 21/50\n",
            "\u001b[1m391/391\u001b[0m \u001b[32m━━━━━━━━━━━━━━━━━━━━\u001b[0m\u001b[37m\u001b[0m \u001b[1m6s\u001b[0m 15ms/step - accuracy: 0.7166 - loss: 0.8830 - val_accuracy: 0.5328 - val_loss: 1.9032 - learning_rate: 3.6362e-04\n",
            "Epoch 22/50\n",
            "\u001b[1m391/391\u001b[0m \u001b[32m━━━━━━━━━━━━━━━━━━━━\u001b[0m\u001b[37m\u001b[0m \u001b[1m6s\u001b[0m 15ms/step - accuracy: 0.7266 - loss: 0.8567 - val_accuracy: 0.5439 - val_loss: 1.9379 - learning_rate: 3.4686e-04\n",
            "Epoch 23/50\n",
            "\u001b[1m391/391\u001b[0m \u001b[32m━━━━━━━━━━━━━━━━━━━━\u001b[0m\u001b[37m\u001b[0m \u001b[1m6s\u001b[0m 15ms/step - accuracy: 0.7351 - loss: 0.8287 - val_accuracy: 0.5455 - val_loss: 2.0379 - learning_rate: 3.2983e-04\n",
            "Epoch 24/50\n",
            "\u001b[1m391/391\u001b[0m \u001b[32m━━━━━━━━━━━━━━━━━━━━\u001b[0m\u001b[37m\u001b[0m \u001b[1m6s\u001b[0m 15ms/step - accuracy: 0.7417 - loss: 0.7962 - val_accuracy: 0.5459 - val_loss: 2.1671 - learning_rate: 3.1259e-04\n",
            "Epoch 25/50\n",
            "\u001b[1m391/391\u001b[0m \u001b[32m━━━━━━━━━━━━━━━━━━━━\u001b[0m\u001b[37m\u001b[0m \u001b[1m6s\u001b[0m 15ms/step - accuracy: 0.7507 - loss: 0.7714 - val_accuracy: 0.5384 - val_loss: 2.1474 - learning_rate: 2.9522e-04\n",
            "Epoch 26/50\n",
            "\u001b[1m391/391\u001b[0m \u001b[32m━━━━━━━━━━━━━━━━━━━━\u001b[0m\u001b[37m\u001b[0m \u001b[1m6s\u001b[0m 15ms/step - accuracy: 0.7560 - loss: 0.7490 - val_accuracy: 0.5366 - val_loss: 2.2583 - learning_rate: 2.7778e-04\n",
            "Epoch 27/50\n",
            "\u001b[1m391/391\u001b[0m \u001b[32m━━━━━━━━━━━━━━━━━━━━\u001b[0m\u001b[37m\u001b[0m \u001b[1m10s\u001b[0m 15ms/step - accuracy: 0.7556 - loss: 0.7546 - val_accuracy: 0.5396 - val_loss: 2.3327 - learning_rate: 2.6034e-04\n",
            "Epoch 28/50\n",
            "\u001b[1m391/391\u001b[0m \u001b[32m━━━━━━━━━━━━━━━━━━━━\u001b[0m\u001b[37m\u001b[0m \u001b[1m10s\u001b[0m 15ms/step - accuracy: 0.7663 - loss: 0.7156 - val_accuracy: 0.5401 - val_loss: 2.4204 - learning_rate: 2.4296e-04\n",
            "Epoch 29/50\n",
            "\u001b[1m391/391\u001b[0m \u001b[32m━━━━━━━━━━━━━━━━━━━━\u001b[0m\u001b[37m\u001b[0m \u001b[1m5s\u001b[0m 14ms/step - accuracy: 0.7671 - loss: 0.7162 - val_accuracy: 0.5410 - val_loss: 2.5329 - learning_rate: 2.2573e-04\n",
            "Epoch 30/50\n",
            "\u001b[1m391/391\u001b[0m \u001b[32m━━━━━━━━━━━━━━━━━━━━\u001b[0m\u001b[37m\u001b[0m \u001b[1m11s\u001b[0m 14ms/step - accuracy: 0.7686 - loss: 0.7096 - val_accuracy: 0.5392 - val_loss: 2.6528 - learning_rate: 2.0870e-04\n",
            "Epoch 31/50\n",
            "\u001b[1m391/391\u001b[0m \u001b[32m━━━━━━━━━━━━━━━━━━━━\u001b[0m\u001b[37m\u001b[0m \u001b[1m11s\u001b[0m 15ms/step - accuracy: 0.7696 - loss: 0.7037 - val_accuracy: 0.5404 - val_loss: 2.9588 - learning_rate: 1.9194e-04\n",
            "Epoch 32/50\n",
            "\u001b[1m391/391\u001b[0m \u001b[32m━━━━━━━━━━━━━━━━━━━━\u001b[0m\u001b[37m\u001b[0m \u001b[1m10s\u001b[0m 15ms/step - accuracy: 0.7751 - loss: 0.6861 - val_accuracy: 0.5384 - val_loss: 2.8155 - learning_rate: 1.7552e-04\n",
            "Epoch 33/50\n",
            "\u001b[1m391/391\u001b[0m \u001b[32m━━━━━━━━━━━━━━━━━━━━\u001b[0m\u001b[37m\u001b[0m \u001b[1m10s\u001b[0m 14ms/step - accuracy: 0.7777 - loss: 0.6809 - val_accuracy: 0.5439 - val_loss: 3.0109 - learning_rate: 1.5951e-04\n",
            "Epoch 34/50\n",
            "\u001b[1m391/391\u001b[0m \u001b[32m━━━━━━━━━━━━━━━━━━━━\u001b[0m\u001b[37m\u001b[0m \u001b[1m6s\u001b[0m 14ms/step - accuracy: 0.7809 - loss: 0.6641 - val_accuracy: 0.5397 - val_loss: 2.9785 - learning_rate: 1.4396e-04\n",
            "Epoch 35/50\n",
            "\u001b[1m391/391\u001b[0m \u001b[32m━━━━━━━━━━━━━━━━━━━━\u001b[0m\u001b[37m\u001b[0m \u001b[1m5s\u001b[0m 14ms/step - accuracy: 0.7840 - loss: 0.6575 - val_accuracy: 0.5372 - val_loss: 3.2273 - learning_rate: 1.2894e-04\n",
            "Epoch 36/50\n",
            "\u001b[1m391/391\u001b[0m \u001b[32m━━━━━━━━━━━━━━━━━━━━\u001b[0m\u001b[37m\u001b[0m \u001b[1m10s\u001b[0m 14ms/step - accuracy: 0.7829 - loss: 0.6590 - val_accuracy: 0.5420 - val_loss: 3.3751 - learning_rate: 1.1450e-04\n",
            "Epoch 37/50\n",
            "\u001b[1m391/391\u001b[0m \u001b[32m━━━━━━━━━━━━━━━━━━━━\u001b[0m\u001b[37m\u001b[0m \u001b[1m6s\u001b[0m 15ms/step - accuracy: 0.7840 - loss: 0.6536 - val_accuracy: 0.5337 - val_loss: 3.4671 - learning_rate: 1.0072e-04\n",
            "Epoch 38/50\n",
            "\u001b[1m391/391\u001b[0m \u001b[32m━━━━━━━━━━━━━━━━━━━━\u001b[0m\u001b[37m\u001b[0m \u001b[1m10s\u001b[0m 14ms/step - accuracy: 0.7871 - loss: 0.6458 - val_accuracy: 0.5390 - val_loss: 3.4611 - learning_rate: 8.7626e-05\n",
            "Epoch 39/50\n",
            "\u001b[1m391/391\u001b[0m \u001b[32m━━━━━━━━━━━━━━━━━━━━\u001b[0m\u001b[37m\u001b[0m \u001b[1m6s\u001b[0m 14ms/step - accuracy: 0.7835 - loss: 0.6550 - val_accuracy: 0.5425 - val_loss: 3.7387 - learning_rate: 7.5286e-05\n",
            "Epoch 40/50\n",
            "\u001b[1m391/391\u001b[0m \u001b[32m━━━━━━━━━━━━━━━━━━━━\u001b[0m\u001b[37m\u001b[0m \u001b[1m5s\u001b[0m 14ms/step - accuracy: 0.7875 - loss: 0.6415 - val_accuracy: 0.5449 - val_loss: 3.7481 - learning_rate: 6.3746e-05\n",
            "Epoch 41/50\n",
            "\u001b[1m391/391\u001b[0m \u001b[32m━━━━━━━━━━━━━━━━━━━━\u001b[0m\u001b[37m\u001b[0m \u001b[1m10s\u001b[0m 14ms/step - accuracy: 0.7867 - loss: 0.6436 - val_accuracy: 0.5428 - val_loss: 4.0269 - learning_rate: 5.3051e-05\n",
            "Epoch 42/50\n",
            "\u001b[1m391/391\u001b[0m \u001b[32m━━━━━━━━━━━━━━━━━━━━\u001b[0m\u001b[37m\u001b[0m \u001b[1m10s\u001b[0m 14ms/step - accuracy: 0.7889 - loss: 0.6365 - val_accuracy: 0.5442 - val_loss: 4.0346 - learning_rate: 4.3242e-05\n",
            "Epoch 43/50\n",
            "\u001b[1m391/391\u001b[0m \u001b[32m━━━━━━━━━━━━━━━━━━━━\u001b[0m\u001b[37m\u001b[0m \u001b[1m6s\u001b[0m 14ms/step - accuracy: 0.7881 - loss: 0.6399 - val_accuracy: 0.5433 - val_loss: 4.2249 - learning_rate: 3.4359e-05\n",
            "Epoch 44/50\n",
            "\u001b[1m391/391\u001b[0m \u001b[32m━━━━━━━━━━━━━━━━━━━━\u001b[0m\u001b[37m\u001b[0m \u001b[1m10s\u001b[0m 14ms/step - accuracy: 0.7876 - loss: 0.6403 - val_accuracy: 0.5414 - val_loss: 4.3016 - learning_rate: 2.6437e-05\n",
            "Epoch 45/50\n",
            "\u001b[1m391/391\u001b[0m \u001b[32m━━━━━━━━━━━━━━━━━━━━\u001b[0m\u001b[37m\u001b[0m \u001b[1m6s\u001b[0m 14ms/step - accuracy: 0.7889 - loss: 0.6372 - val_accuracy: 0.5432 - val_loss: 4.3349 - learning_rate: 1.9507e-05\n",
            "Epoch 46/50\n",
            "\u001b[1m391/391\u001b[0m \u001b[32m━━━━━━━━━━━━━━━━━━━━\u001b[0m\u001b[37m\u001b[0m \u001b[1m5s\u001b[0m 14ms/step - accuracy: 0.7902 - loss: 0.6326 - val_accuracy: 0.5437 - val_loss: 4.3257 - learning_rate: 1.3595e-05\n",
            "Epoch 47/50\n",
            "\u001b[1m391/391\u001b[0m \u001b[32m━━━━━━━━━━━━━━━━━━━━\u001b[0m\u001b[37m\u001b[0m \u001b[1m6s\u001b[0m 14ms/step - accuracy: 0.7890 - loss: 0.6375 - val_accuracy: 0.5442 - val_loss: 4.4555 - learning_rate: 8.7269e-06\n",
            "Epoch 48/50\n",
            "\u001b[1m391/391\u001b[0m \u001b[32m━━━━━━━━━━━━━━━━━━━━\u001b[0m\u001b[37m\u001b[0m \u001b[1m10s\u001b[0m 14ms/step - accuracy: 0.7892 - loss: 0.6359 - val_accuracy: 0.5439 - val_loss: 4.4864 - learning_rate: 4.9202e-06\n",
            "Epoch 49/50\n",
            "\u001b[1m391/391\u001b[0m \u001b[32m━━━━━━━━━━━━━━━━━━━━\u001b[0m\u001b[37m\u001b[0m \u001b[1m10s\u001b[0m 14ms/step - accuracy: 0.7913 - loss: 0.6294 - val_accuracy: 0.5440 - val_loss: 4.4996 - learning_rate: 2.1904e-06\n",
            "Epoch 50/50\n",
            "\u001b[1m391/391\u001b[0m \u001b[32m━━━━━━━━━━━━━━━━━━━━\u001b[0m\u001b[37m\u001b[0m \u001b[1m6s\u001b[0m 14ms/step - accuracy: 0.7860 - loss: 0.6454 - val_accuracy: 0.5443 - val_loss: 4.5023 - learning_rate: 5.4813e-07\n",
            "CPU times: user 4min 54s, sys: 8.87 s, total: 5min 2s\n",
            "Wall time: 6min 48s\n"
          ]
        }
      ]
    },
    {
      "cell_type": "code",
      "source": [
        "import matplotlib.pyplot as plt\n",
        "import numpy as np\n",
        "from sklearn.metrics import confusion_matrix, ConfusionMatrixDisplay\n",
        "\n",
        "predictions = net.predict(test_images)\n",
        "predicted_labels = np.argmax(predictions, axis=1)\n",
        "\n",
        "# Создание матрицы ошибок\n",
        "cm = confusion_matrix(test_labels, predicted_labels)\n",
        "\n",
        "# Визуализация матрицы ошибок\n",
        "disp = ConfusionMatrixDisplay(confusion_matrix=cm, display_labels=np.unique(test_labels))\n",
        "disp.plot(cmap=plt.cm.Blues)\n",
        "plt.show()"
      ],
      "metadata": {
        "id": "fpWzg3rT3Gm9"
      },
      "execution_count": 10,
      "outputs": []
    },
    {
      "cell_type": "markdown",
      "metadata": {
        "origin_pos": 14,
        "id": "vmcHVb6K_tlc"
      },
      "source": [
        "## Задания\n",
        "\n",
        "- Настройте гиперпараметры для большей аккуратности решения.\n",
        "- Почему в блоке два слоя 1 на 1? Удалите и или добавьте еще один, как это отразится на результате?\n",
        "- Посчитайте производительность NiN:\n",
        "    - Сколько обучаемых параметров?\n",
        "    - Сколько вычислительных операций (умножения)?\n",
        "    - Объем памяти необходимый для сети?\n",
        "\n"
      ]
    },
    {
      "cell_type": "markdown",
      "metadata": {
        "origin_pos": 17,
        "tab": [
          "tensorflow"
        ],
        "id": "9v_xG3hk_tlc"
      },
      "source": [
        "# Ссылки\n",
        "Использованы и адаптированы материалы\n",
        "\n",
        "https://d2l.ai/chapter_convolutional-modern/nin.html"
      ]
    },
    {
      "cell_type": "code",
      "metadata": {
        "id": "3OsLaEZvPSP2"
      },
      "source": [],
      "execution_count": 10,
      "outputs": []
    }
  ]
}