{
  "cells": [
    {
      "cell_type": "code",
      "execution_count": null,
      "metadata": {
        "id": "lI0B8beVlFaM"
      },
      "outputs": [],
      "source": [
        "from tensorflow.keras.datasets import mnist\n",
        "from tensorflow.keras.models import Sequential\n",
        "from tensorflow.keras.layers import Dense\n",
        "from tensorflow.keras import utils\n",
        "from tensorflow.keras.preprocessing import image\n",
        "from keras.layers import Conv2D, MaxPooling2D, ZeroPadding2D, GlobalAveragePooling2D, Flatten\n",
        "from google.colab import files\n",
        "import numpy as np\n",
        "import matplotlib.pyplot as plt\n",
        "from PIL import Image\n",
        "(x_train_org, y_train_org),(x_test_org, y_test_org)=mnist.load_data()\n"
      ]
    },
    {
      "cell_type": "code",
      "execution_count": null,
      "metadata": {
        "colab": {
          "base_uri": "https://localhost:8080/",
          "height": 265
        },
        "id": "54I_JGZcHiGE",
        "outputId": "0533ed5b-400a-411a-e372-737b00a68f44"
      },
      "outputs": [
        {
          "output_type": "display_data",
          "data": {
            "text/plain": [
              "<Figure size 432x288 with 1 Axes>"
            ],
            "image/png": "[encoded data removed]"
          },
          "metadata": {
            "needs_background": "light"
          }
        }
      ],
      "source": [
        "plt.imshow(Image.fromarray(x_train_org[78]))\n",
        "plt.show()\n"
      ]
    },
    {
      "cell_type": "code",
      "execution_count": null,
      "metadata": {
        "colab": {
          "base_uri": "https://localhost:8080/",
          "height": 265
        },
        "id": "wTQLf1DAHk_R",
        "outputId": "1f37f0b7-f459-4df5-e596-1e1371bb5d27"
      },
      "outputs": [
        {
          "output_type": "display_data",
          "data": {
            "text/plain": [
              "<Figure size 432x288 with 1 Axes>"
            ],
            "image/png": "[encoded data removed]"
          },
          "metadata": {
            "needs_background": "light"
          }
        }
      ],
      "source": [
        "plt.imshow(Image.fromarray(x_test_org[78]))\n",
        "plt.show()"
      ]
    },
    {
      "cell_type": "code",
      "execution_count": null,
      "metadata": {
        "colab": {
          "base_uri": "https://localhost:8080/",
          "height": 265
        },
        "id": "gadEI6XsMhYf",
        "outputId": "a44e37af-78e7-41d4-eef2-c8756fb378d1"
      },
      "outputs": [
        {
          "output_type": "display_data",
          "data": {
            "text/plain": [
              "<Figure size 432x288 with 1 Axes>"
            ],
            "image/png": "[encoded data removed]"
          },
          "metadata": {
            "needs_background": "light"
          }
        }
      ],
      "source": [
        "plt.imshow(Image.fromarray(x_test_org[145]))\n",
        "plt.show()"
      ]
    },
    {
      "cell_type": "code",
      "execution_count": null,
      "metadata": {
        "colab": {
          "base_uri": "https://localhost:8080/",
          "height": 265
        },
        "id": "-daRGnSbMlXM",
        "outputId": "f8ccf837-8b0d-408a-8ed9-37394079336c"
      },
      "outputs": [
        {
          "output_type": "display_data",
          "data": {
            "text/plain": [
              "<Figure size 432x288 with 1 Axes>"
            ],
            "image/png": "[encoded data removed]"
          },
          "metadata": {
            "needs_background": "light"
          }
        }
      ],
      "source": [
        "plt.imshow(Image.fromarray(x_test_org[784]))\n",
        "plt.show()"
      ]
    },
    {
      "cell_type": "code",
      "execution_count": null,
      "metadata": {
        "id": "Q6UTJciEHiPV"
      },
      "outputs": [],
      "source": []
    },
    {
      "cell_type": "code",
      "execution_count": null,
      "metadata": {
        "colab": {
          "base_uri": "https://localhost:8080/",
          "height": 265
        },
        "id": "gsQsnZmalT6S",
        "outputId": "fd3240f5-eccd-4945-ad11-c4175b38a5af"
      },
      "outputs": [
        {
          "data": {
            "image/png": "[encoded data removed]",
            "text/plain": [
              "<Figure size 432x288 with 1 Axes>"
            ]
          },
          "metadata": {},
          "output_type": "display_data"
        }
      ],
      "source": [
        "for n in range(0,60000):\n",
        "  x_train_org[n][0] = 255-x_train_org[n][0]\n",
        "  x_train_org[n][0][0] = 255-x_train_org[n][0][0]\n",
        "  x_train_org[n][0][-1] = 255-x_train_org[n][0][-1]\n",
        "  x_train_org[n][-1] = 255-x_train_org[n][-1]\n",
        "  for i in range(0,27):\n",
        "    x_train_org[n][i][0] = 255-x_train_org[n][i][0]\n",
        "    x_train_org[n][i][-1] = 255-x_train_org[n][i][-1]\n",
        "for n in range(0,60000):\n",
        "  for j in range(28):\n",
        "    for k in range(28):\n",
        "      x_train_org[n][j][k] = 255 - x_train_org[n][j][k]\n",
        "plt.imshow(Image.fromarray(x_train_org[78]).convert('RGBA'))\n",
        "plt.show()"
      ]
    },
    {
      "cell_type": "code",
      "execution_count": null,
      "metadata": {
        "colab": {
          "base_uri": "https://localhost:8080/",
          "height": 265
        },
        "id": "qv32RFKINO9t",
        "outputId": "38eb22f2-9c7b-41dd-c61c-f836eff55aa6"
      },
      "outputs": [
        {
          "data": {
            "image/png": "[encoded data removed]",
            "text/plain": [
              "<Figure size 432x288 with 1 Axes>"
            ]
          },
          "metadata": {},
          "output_type": "display_data"
        }
      ],
      "source": [
        "plt.imshow(Image.fromarray(x_test_org[78]).convert('RGBA'))\n",
        "plt.show()"
      ]
    },
    {
      "cell_type": "code",
      "execution_count": null,
      "metadata": {
        "colab": {
          "base_uri": "https://localhost:8080/",
          "height": 265
        },
        "id": "qCVNN3ZKNSyD",
        "outputId": "457a989b-ef8c-42d3-f270-a4d04303b8f9"
      },
      "outputs": [
        {
          "data": {
            "image/png": "[encoded data removed]",
            "text/plain": [
              "<Figure size 432x288 with 1 Axes>"
            ]
          },
          "metadata": {},
          "output_type": "display_data"
        }
      ],
      "source": [
        "plt.imshow(Image.fromarray(x_test_org[145]).convert('RGBA'))\n",
        "plt.show()"
      ]
    },
    {
      "cell_type": "code",
      "execution_count": null,
      "metadata": {
        "colab": {
          "base_uri": "https://localhost:8080/",
          "height": 265
        },
        "id": "1CnVHJNnNTz8",
        "outputId": "29ad3c17-595b-448f-a4b7-f675838799fe"
      },
      "outputs": [
        {
          "data": {
            "image/png": "[encoded data removed]",
            "text/plain": [
              "<Figure size 432x288 with 1 Axes>"
            ]
          },
          "metadata": {},
          "output_type": "display_data"
        }
      ],
      "source": [
        "plt.imshow(Image.fromarray(x_train_org[78]).convert('RGBA'))\n",
        "plt.show()"
      ]
    },
    {
      "cell_type": "code",
      "execution_count": null,
      "metadata": {
        "colab": {
          "base_uri": "https://localhost:8080/",
          "height": 265
        },
        "id": "JJI_ILW3NUB9",
        "outputId": "4d39aa4c-2acc-4948-d6a8-f7892a756e71"
      },
      "outputs": [
        {
          "data": {
            "image/png": "[encoded data removed]",
            "text/plain": [
              "<Figure size 432x288 with 1 Axes>"
            ]
          },
          "metadata": {},
          "output_type": "display_data"
        }
      ],
      "source": [
        "plt.imshow(Image.fromarray(x_test_org[784]).convert('RGBA'))\n",
        "plt.show()"
      ]
    },
    {
      "cell_type": "code",
      "execution_count": null,
      "metadata": {
        "colab": {
          "base_uri": "https://localhost:8080/",
          "height": 265
        },
        "id": "riQRupuylU8H",
        "outputId": "851c41c6-c4cb-49bb-f5ed-db8fcf78a44e"
      },
      "outputs": [
        {
          "data": {
            "image/png": "[encoded data removed]",
            "text/plain": [
              "<Figure size 432x288 with 1 Axes>"
            ]
          },
          "metadata": {},
          "output_type": "display_data"
        }
      ],
      "source": [
        "for n in range(0,10000):\n",
        "  x_test_org[n][0] = 255-x_test_org[n][0]\n",
        "  x_test_org[n][0][0] = 255-x_test_org[n][0][0]\n",
        "  x_test_org[n][0][-1] = 255-x_test_org[n][0][-1]\n",
        "  x_test_org[n][-1] = 255-x_test_org[n][-1]\n",
        "  for i in range(0,27):\n",
        "    x_test_org[n][i][0] = 255-x_test_org[n][i][0]\n",
        "    x_test_org[n][i][-1] = 255-x_test_org[n][i][-1]\n",
        "for n in range(0,10000):\n",
        "  for j in range(28):\n",
        "    for k in range(28):\n",
        "      x_test_org[n][j][k] = 255 - x_test_org[n][j][k]\n",
        "      if x_test_org[n][j][k]<254:\n",
        "        x_test_org[n][j][k]==0\n",
        "plt.imshow(Image.fromarray(x_test_org[78]).convert('RGBA'))\n",
        "plt.show()"
      ]
    },
    {
      "cell_type": "code",
      "execution_count": null,
      "metadata": {
        "colab": {
          "base_uri": "https://localhost:8080/"
        },
        "id": "WUCXW1Z5nzfL",
        "outputId": "2037aab5-d3d5-4d91-b579-434f5d353ada"
      },
      "outputs": [
        {
          "name": "stdout",
          "output_type": "stream",
          "text": [
            "[  0 255 255 255 255 255 255 255 255 223  30 139 253 255 255 255 255 203\n",
            "  21 164 255 255 255 255 255 255 255   0]\n"
          ]
        }
      ],
      "source": [
        "print(x_test_org[471][10])"
      ]
    },
    {
      "cell_type": "code",
      "execution_count": null,
      "metadata": {
        "id": "HetngC_OlkLX"
      },
      "outputs": [],
      "source": [
        "x_train=np.expand_dims(x_train_org/255, axis = 3)\n",
        "y_train=utils.to_categorical(y_train_org/255,10)\n",
        "y_test=utils.to_categorical(y_test_org,10)\n",
        "x_test = np.expand_dims(x_test_org/255, axis = 3)"
      ]
    },
    {
      "cell_type": "code",
      "execution_count": null,
      "metadata": {
        "id": "Tdw6zdISuXyV"
      },
      "outputs": [],
      "source": [
        "from tensorflow.keras.callbacks import ModelCheckpoint\n",
        "weights_file = 'weights.h5'\n",
        "callback = ModelCheckpoint(weights_file,\n",
        "              monitor='acc',\n",
        "              mode='max',\n",
        "              save_best_only=True)"
      ]
    },
    {
      "cell_type": "code",
      "execution_count": null,
      "metadata": {
        "colab": {
          "background_save": true,
          "base_uri": "https://localhost:8080/"
        },
        "id": "1Hpoaac4lnDQ",
        "outputId": "79f24805-98fb-46e5-c061-41f45d3c0b6b"
      },
      "outputs": [
        {
          "name": "stdout",
          "output_type": "stream",
          "text": [
            "Epoch 1/15\n",
            "2940/2940 [==============================] - ETA: 0s - loss: 0.2832 - accuracy: 0.9226WARNING:tensorflow:Can save best model only with acc available, skipping.\n",
            "2940/2940 [==============================] - 254s 86ms/step - loss: 0.2832 - accuracy: 0.9226 - val_loss: 0.0682 - val_accuracy: 0.9775\n",
            "Epoch 2/15\n",
            "2940/2940 [==============================] - ETA: 0s - loss: 0.0993 - accuracy: 0.9706WARNING:tensorflow:Can save best model only with acc available, skipping.\n",
            "2940/2940 [==============================] - 251s 85ms/step - loss: 0.0993 - accuracy: 0.9706 - val_loss: 0.0756 - val_accuracy: 0.9783\n",
            "Epoch 3/15\n",
            "2940/2940 [==============================] - ETA: 0s - loss: 0.0794 - accuracy: 0.9762WARNING:tensorflow:Can save best model only with acc available, skipping.\n",
            "2940/2940 [==============================] - 251s 85ms/step - loss: 0.0794 - accuracy: 0.9762 - val_loss: 0.0906 - val_accuracy: 0.9758\n",
            "Epoch 4/15\n",
            "2940/2940 [==============================] - ETA: 0s - loss: 0.0652 - accuracy: 0.9811WARNING:tensorflow:Can save best model only with acc available, skipping.\n",
            "2940/2940 [==============================] - 251s 85ms/step - loss: 0.0652 - accuracy: 0.9811 - val_loss: 0.0782 - val_accuracy: 0.9858\n",
            "Epoch 5/15\n",
            "2940/2940 [==============================] - ETA: 0s - loss: 0.0652 - accuracy: 0.9812WARNING:tensorflow:Can save best model only with acc available, skipping.\n",
            "2940/2940 [==============================] - 251s 86ms/step - loss: 0.0652 - accuracy: 0.9812 - val_loss: 0.0835 - val_accuracy: 0.9875\n",
            "Epoch 6/15\n",
            "2940/2940 [==============================] - ETA: 0s - loss: 0.0569 - accuracy: 0.9839WARNING:tensorflow:Can save best model only with acc available, skipping.\n",
            "2940/2940 [==============================] - 251s 85ms/step - loss: 0.0569 - accuracy: 0.9839 - val_loss: 0.0642 - val_accuracy: 0.9892\n",
            "Epoch 7/15\n",
            "2940/2940 [==============================] - ETA: 0s - loss: 0.0578 - accuracy: 0.9846WARNING:tensorflow:Can save best model only with acc available, skipping.\n",
            "2940/2940 [==============================] - 248s 84ms/step - loss: 0.0578 - accuracy: 0.9846 - val_loss: 0.0637 - val_accuracy: 0.9817\n",
            "Epoch 8/15\n",
            "2940/2940 [==============================] - ETA: 0s - loss: 0.0548 - accuracy: 0.9854WARNING:tensorflow:Can save best model only with acc available, skipping.\n",
            "2940/2940 [==============================] - 248s 84ms/step - loss: 0.0548 - accuracy: 0.9854 - val_loss: 0.0732 - val_accuracy: 0.9867\n",
            "Epoch 9/15\n",
            "2940/2940 [==============================] - ETA: 0s - loss: 0.0479 - accuracy: 0.9876WARNING:tensorflow:Can save best model only with acc available, skipping.\n",
            "2940/2940 [==============================] - 248s 84ms/step - loss: 0.0479 - accuracy: 0.9876 - val_loss: 0.1015 - val_accuracy: 0.9833\n",
            "Epoch 10/15\n",
            "2940/2940 [==============================] - ETA: 0s - loss: 0.0473 - accuracy: 0.9881WARNING:tensorflow:Can save best model only with acc available, skipping.\n",
            "2940/2940 [==============================] - 248s 84ms/step - loss: 0.0473 - accuracy: 0.9881 - val_loss: 0.0676 - val_accuracy: 0.9825\n",
            "Epoch 11/15\n",
            "2940/2940 [==============================] - ETA: 0s - loss: 0.0464 - accuracy: 0.9890WARNING:tensorflow:Can save best model only with acc available, skipping.\n",
            "2940/2940 [==============================] - 246s 84ms/step - loss: 0.0464 - accuracy: 0.9890 - val_loss: 0.0681 - val_accuracy: 0.9858\n",
            "Epoch 12/15\n",
            "2940/2940 [==============================] - ETA: 0s - loss: 0.0413 - accuracy: 0.9895WARNING:tensorflow:Can save best model only with acc available, skipping.\n",
            "2940/2940 [==============================] - 251s 85ms/step - loss: 0.0413 - accuracy: 0.9895 - val_loss: 0.1150 - val_accuracy: 0.9792\n",
            "Epoch 13/15\n",
            "2940/2940 [==============================] - ETA: 0s - loss: 0.0483 - accuracy: 0.9887WARNING:tensorflow:Can save best model only with acc available, skipping.\n",
            "2940/2940 [==============================] - 256s 87ms/step - loss: 0.0483 - accuracy: 0.9887 - val_loss: 0.0718 - val_accuracy: 0.9900\n",
            "Epoch 14/15\n",
            "2940/2940 [==============================] - ETA: 0s - loss: 0.0412 - accuracy: 0.9901WARNING:tensorflow:Can save best model only with acc available, skipping.\n",
            "2940/2940 [==============================] - 249s 85ms/step - loss: 0.0412 - accuracy: 0.9901 - val_loss: 0.1053 - val_accuracy: 0.9858\n",
            "Epoch 15/15\n",
            "2940/2940 [==============================] - ETA: 0s - loss: 0.0396 - accuracy: 0.9908WARNING:tensorflow:Can save best model only with acc available, skipping.\n",
            "2940/2940 [==============================] - 246s 84ms/step - loss: 0.0396 - accuracy: 0.9908 - val_loss: 0.1158 - val_accuracy: 0.9742\n"
          ]
        }
      ],
      "source": [
        "model = Sequential([\n",
        "    Conv2D(98, (5,4), padding='same', activation='relu', input_shape=(28, 28, 1)),\n",
        "    MaxPooling2D((4, 3), strides=2),\n",
        "    Conv2D(76, (4,3), padding='same', activation='relu'),\n",
        "    MaxPooling2D((3, 2), strides=3),\n",
        "    Conv2D(32, (2,2), padding='same', activation='relu'),\n",
        "    MaxPooling2D((3, 2), strides=2),\n",
        "    Flatten(),\n",
        "    Dense(240, activation='relu'),\n",
        "    Dense(150, activation='relu'),\n",
        "    Dense(10,  activation='softmax')\n",
        "])\n",
        "model.compile(optimizer='adam',\n",
        "             loss='categorical_crossentropy',\n",
        "             metrics=['accuracy'])\n",
        "\n",
        "his = model.fit(x_train, y_train, batch_size=20, epochs=15, validation_split=0.02,callbacks = [callback])\n"
      ]
    },
    {
      "cell_type": "code",
      "execution_count": null,
      "metadata": {
        "colab": {
          "base_uri": "https://localhost:8080/"
        },
        "id": "BAvbqiBKT3eE",
        "outputId": "9cf154d1-591e-4c9c-b1eb-c0c17b127f29"
      },
      "outputs": [
        {
          "name": "stdout",
          "output_type": "stream",
          "text": [
            "INFO:tensorflow:Assets written to: neyro/assets\n"
          ]
        }
      ],
      "source": [
        "model.save('neyro')\n"
      ]
    },
    {
      "cell_type": "code",
      "execution_count": null,
      "metadata": {
        "colab": {
          "base_uri": "https://localhost:8080/",
          "height": 278
        },
        "id": "PuVvfQKtKRnI",
        "outputId": "2bee01df-d670-451c-fb50-65a02453fef4"
      },
      "outputs": [
        {
          "output_type": "display_data",
          "data": {
            "text/plain": [
              "<Figure size 432x288 with 1 Axes>"
            ],
            "image/png": "[encoded data removed]"
          },
          "metadata": {
            "needs_background": "light"
          }
        }
      ],
      "source": [
        "\n",
        "plt.plot([0.9733,0.9833,0.9892,0.98,0.985,0.995,0.9842,0.9808,0.9892,0.9917,0.9858,0.9892,0.9858,0.9875,0.9925],label='Доля верных ответов на проверочном наборе')\n",
        "plt.plot([0.9412,0.9741 ,0.9784 ,0.9825 ,0.9838, 0.9845,0.9855 ,0.9866 ,0.9871 ,0.9868 ,0.9888 ,0.9884 ,0.9884 ,0.9904 ,0.9904  ],label='Доля верных ответов на обучающих данных')\n",
        "plt.xlabel('Эпоха обучения')\n",
        "plt.ylabel('Доля верных ответов')\n",
        "plt.legend()\n",
        "plt.show()"
      ]
    }
  ],
  "metadata": {
    "colab": {
      "provenance": []
    },
    "kernelspec": {
      "display_name": "Python 3",
      "name": "python3"
    },
    "language_info": {
      "name": "python"
    }
  },
  "nbformat": 4,
  "nbformat_minor": 0
}